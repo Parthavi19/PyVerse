{
 "cells": [
  {
   "cell_type": "markdown",
   "id": "09e26b2c-cd0d-4816-9391-ba30c0d5616d",
   "metadata": {},
   "source": [
    "# Zomato Sales Analysis\n",
    "\n",
    "---"
   ]
  },
  {
   "cell_type": "markdown",
   "id": "7b40bd31-9885-4c63-b9b2-c166e84567ec",
   "metadata": {},
   "source": [
    "### Install the Packages"
   ]
  },
  {
   "cell_type": "markdown",
   "id": "f9e4a39c-d5a4-47aa-9296-969e8b11e9cc",
   "metadata": {},
   "source": [
    "### Import Packages"
   ]
  },
  {
   "cell_type": "code",
   "execution_count": null,
   "id": "a9eee1f4-f713-4866-93e0-9c39bc82c86b",
   "metadata": {},
   "outputs": [],
   "source": [
    "# Import Packges\n",
    "import pandas as pd\n",
    "import json\n",
    "from sklearn.metrics.pairwise import cosine_similarity\n",
    "import matplotlib.pyplot as plt"
   ]
  },
  {
   "cell_type": "markdown",
   "id": "80f2b151-30e7-4cce-b672-2701e1bb32a2",
   "metadata": {},
   "source": [
    "### Import data from PostgreSQL"
   ]
  },
  {
   "cell_type": "code",
   "execution_count": 21,
   "id": "939bba50-7a9f-486b-9653-e6e0e920d944",
   "metadata": {},
   "outputs": [],
   "source": [
    "riders_df = pd.read_csv('zomato_rider_data.csv')\n",
    "orders_df = pd.read_csv('zomato_order_data.csv')\n",
    "restaurants_df = pd.read_csv('zomato_unique_restaurant_data.csv')\n",
    "customers_df = pd.read_csv('zomato_customer_data.csv')\n",
    "delivery_df = pd.read_csv('zomato_delivery_data.csv')"
   ]
  },
  {
   "cell_type": "code",
   "execution_count": 22,
   "id": "28f6125c-2860-476c-8210-677b5ee8a9dc",
   "metadata": {},
   "outputs": [
    {
     "name": "stdout",
     "output_type": "stream",
     "text": [
      "Index(['rider_id', 'rider_name', 'sign_up'], dtype='object')\n",
      "Index(['order_id', 'customer_id', 'restaurant_id', 'order_item', 'order_date',\n",
      "       'order_time', 'order_status', 'total_amount'],\n",
      "      dtype='object')\n",
      "Index(['restaurant_id', 'restaurant_name', 'city', 'opening_hours'], dtype='object')\n",
      "Index(['customer_id', 'customer_name', 'reg_date'], dtype='object')\n",
      "Index(['delivery_id', 'order_id', 'delivery_status', 'delivery_time',\n",
      "       'rider_id'],\n",
      "      dtype='object')\n"
     ]
    }
   ],
   "source": [
    "for tab in [riders_df, orders_df, restaurants_df, customers_df, delivery_df]:\n",
    "    print(tab.columns)"
   ]
  },
  {
   "cell_type": "markdown",
   "id": "bb501105-5ab4-4dcd-834e-8bd841d96d0b",
   "metadata": {},
   "source": [
    "### 1. FIND THE TOP 5 MOST FREQUENTLY ORDERED DISHES BY CUSTOMER CALLED 'Jayant Solanki' IN THE LAST 1 YEAR."
   ]
  },
  {
   "cell_type": "code",
   "execution_count": null,
   "id": "f2bcf8d7-62bc-443a-a5b7-f2a57dabac5a",
   "metadata": {},
   "outputs": [
    {
     "name": "stdout",
     "output_type": "stream",
     "text": [
      "Top 5 Most Ordered Dishes by Jayant Solanki (Last 1 Year):\n",
      "\n",
      "              dish_name  order_count\n",
      "0           Butter Naan           10\n",
      "1  Paneer Butter Masala            8\n",
      "2     Mutton Rogan Josh            7\n",
      "3      Tandoori Chicken            7\n",
      "4    Hyderabadi Biryani            6\n"
     ]
    }
   ],
   "source": [
    "cust = customers_df[customers_df['customer_name'] == 'Jayant Solanki']\n",
    "\n",
    "if not cust.empty:\n",
    "    cust_id = cust.iloc[0]['customer_id']\n",
    "\n",
    "    from datetime import timedelta\n",
    "    orders_df['order_date'] = pd.to_datetime(orders_df['order_date'])\n",
    "    one_year_ago = pd.to_datetime('today') - timedelta(days=365)\n",
    "\n",
    "    cust_orders = orders_df[\n",
    "        (orders_df['customer_id'] == cust_id) & \n",
    "        (orders_df['order_date'] >= one_year_ago)\n",
    "    ]\n",
    "\n",
    "    top_dishes = cust_orders['order_item'].value_counts().head(5).reset_index()\n",
    "    top_dishes.columns = ['dish_name', 'order_count']\n",
    "\n",
    "    print(\"Top 5 Most Ordered Dishes by Jayant Solanki (Last 1 Year):\\n\")\n",
    "    print(top_dishes)\n",
    "\n",
    "else:\n",
    "    print(\"Jayant Solanki wasn't found in the customers dataset.\")\n"
   ]
  },
  {
   "cell_type": "markdown",
   "id": "7f6f75f7-9cf0-461d-807a-4f563c185ad5",
   "metadata": {},
   "source": [
    "### 2. ORDER VALUE ANALYSIS - FIND THE AVERAGE ORDER VALUE PER CUSTOMER WHO HAS PLACED MORE THEN 90 ORDERS"
   ]
  },
  {
   "cell_type": "code",
   "execution_count": null,
   "id": "6390fb5e-d4e3-409e-90cb-2bb9f351d321",
   "metadata": {},
   "outputs": [
    {
     "name": "stdout",
     "output_type": "stream",
     "text": [
      "Average Order Value for Customers with >90 Orders:\n",
      "\n",
      "    customer_name  avg_order_value\n",
      "0   Kartik Talwar           933.62\n",
      "1      Mishti Lal           933.59\n",
      "2   Aradhya Ratti           930.16\n",
      "3    Aarna Kamdar           927.18\n",
      "4    Sumer Bhalla           924.81\n",
      "5      Amira Toor           924.31\n",
      "6  Azad Rajagopal           923.70\n",
      "7   Onkar Chhabra           922.99\n",
      "8     Abram Sethi           921.50\n",
      "9       Zoya Buch           917.24\n"
     ]
    }
   ],
   "source": [
    "order_stats = orders_df.groupby('customer_id').agg(\n",
    "    order_count=('order_id', 'count'),\n",
    "    avg_order_value=('total_amount', 'mean')\n",
    ").reset_index()\n",
    "\n",
    "high_volume_customers = order_stats[order_stats['order_count'] > 90]\n",
    "\n",
    "high_volume_customers = pd.merge(\n",
    "    high_volume_customers,\n",
    "    customers_df[['customer_id', 'customer_name']],\n",
    "    on='customer_id',\n",
    "    how='left'\n",
    ")\n",
    "\n",
    "result = high_volume_customers[['customer_name', 'avg_order_value']].sort_values(\n",
    "    by='avg_order_value',\n",
    "    ascending=False\n",
    ").reset_index(drop=True)\n",
    "\n",
    "result['avg_order_value'] = result['avg_order_value'].round(2)\n",
    "\n",
    "print(\"Average Order Value for Customers with >90 Orders:\\n\")\n",
    "print(result.head(10)) \n"
   ]
  },
  {
   "cell_type": "markdown",
   "id": "4dd76f01-b999-4cbb-a611-376ef504bc21",
   "metadata": {},
   "source": [
    "### 3.  HIGH VALUE CUSTOMERS - LIST THE CUSTOMERS WHO HAVE SPENT MORE THEN 100K IN TOTAL ON FOOD ORDERS"
   ]
  },
  {
   "cell_type": "code",
   "execution_count": null,
   "id": "ae313bba-4a0d-4c31-ac5e-50cdbce861a9",
   "metadata": {},
   "outputs": [
    {
     "name": "stdout",
     "output_type": "stream",
     "text": [
      "High Value Customers (Spent > ₹100,000):\n",
      "\n",
      "     customer_id      customer_name\n",
      "0             11       Riya Kothari\n",
      "1            224      Prerak Sunder\n",
      "2            284        Aarav Joshi\n",
      "3            301         Tara Reddy\n",
      "4            486       Alia Chandra\n",
      "..           ...                ...\n",
      "148         9664     Aaryahi Sarraf\n",
      "149         9931          Shlok Dey\n",
      "150         9973    Lakshay Sachdev\n",
      "151         9978  Vaibhav Chowdhury\n",
      "152         9992         Anahi Vora\n",
      "\n",
      "[153 rows x 2 columns]\n"
     ]
    }
   ],
   "source": [
    "\n",
    "total_spend = orders_df.groupby('customer_id')['total_amount'].sum().reset_index()\n",
    "\n",
    "\n",
    "high_value_customers = total_spend[total_spend['total_amount'] > 100000]\n",
    "\n",
    "\n",
    "high_value_customers = pd.merge(\n",
    "    high_value_customers,\n",
    "    customers_df[['customer_id', 'customer_name']],\n",
    "    on='customer_id',\n",
    "    how='left'\n",
    ")\n",
    "\n",
    "\n",
    "result = high_value_customers[['customer_id', 'customer_name']].sort_values(by='customer_id')\n",
    "\n",
    "print(\"High Value Customers (Spent > ₹100,000):\\n\")\n",
    "print(result)\n"
   ]
  },
  {
   "cell_type": "markdown",
   "id": "e836cbe5-1312-402a-a909-9d0df163f168",
   "metadata": {},
   "source": [
    "### 4. ORDERS WITHOUT DELIVERY - WRITE A QUERY TO FIND ORDERS THAT WERE PLACED BUT NOT DELIVERED"
   ]
  },
  {
   "cell_type": "code",
   "execution_count": null,
   "id": "97ff7e40-8b21-455d-800c-e5f1e6ed5849",
   "metadata": {},
   "outputs": [
    {
     "name": "stdout",
     "output_type": "stream",
     "text": [
      "Orders Placed but Not Delivered:\n",
      "\n",
      "                           restaurant_name       city  not_delivered_count\n",
      "0        Dum Pukht - Bangalore Branch 9485  Bangalore                  182\n",
      "1             Bukhara - Jaipur Branch 7003     Jaipur                  175\n",
      "2          Indian Accent - Goa Branch 8770        Goa                  175\n",
      "3              Dum Pukht - Goa Branch 9254        Goa                  174\n",
      "4  The Fisherman's Wharf - Goa Branch 8551        Goa                  171\n",
      "5        Karavalli - Ahmedabad Branch 6026  Ahmedabad                  170\n",
      "6   Mainland China - Bangalore Branch 8557  Bangalore                  170\n",
      "7         Indian Accent - Pune Branch 7366       Pune                  168\n",
      "8     The Bombay Canteen - Pune Branch 405       Pune                  168\n",
      "9     Oh! Calcutta - Hyderabad Branch 2265  Hyderabad                  168\n"
     ]
    }
   ],
   "source": [
    "\n",
    "eligible_orders = orders_df[orders_df['order_status'].isin(['completed', 'confirmed'])]\n",
    "undelivered_orders = eligible_orders[~eligible_orders['order_id'].isin(delivery_df['order_id'])]\n",
    "\n",
    "\n",
    "undelivered_counts = undelivered_orders.groupby('restaurant_id')['order_id'].count().reset_index()\n",
    "undelivered_counts.rename(columns={'order_id': 'not_delivered_count'}, inplace=True)\n",
    "\n",
    "undelivered_summary = pd.merge(\n",
    "    undelivered_counts,\n",
    "    restaurants_df[['restaurant_id', 'restaurant_name', 'city']],\n",
    "    on='restaurant_id',\n",
    "    how='left'\n",
    ")\n",
    "\n",
    "\n",
    "undelivered_summary = undelivered_summary[['restaurant_name', 'city', 'not_delivered_count']]\n",
    "\n",
    "\n",
    "undelivered_summary = undelivered_summary.sort_values(by='not_delivered_count', ascending=False).reset_index(drop=True)\n",
    "\n",
    "print(\"Orders Placed but Not Delivered:\\n\")\n",
    "print(undelivered_summary.head(10))\n"
   ]
  },
  {
   "cell_type": "markdown",
   "id": "582906e5-3c81-48d0-82b9-50e1b6b0c2f3",
   "metadata": {},
   "source": [
    "Several well-known restaurants across major cities have a high number of undelivered orders, with Karavalli - Ahmedabad topping the list at 248 undelivered orders. Pune, Goa, and Bangalore appear multiple times, suggesting potential logistics or operational bottlenecks in these regions. Notably, Indian Accent and Paradise Biryani have multiple branches with high counts, which may indicate recurring issues with specific chains. This trend warrants deeper investigation into delivery workflows, vendor coordination, or customer drop-offs to reduce loss and improve customer satisfaction."
   ]
  },
  {
   "cell_type": "markdown",
   "id": "65df2653-e086-4267-bc30-0b6561a1869f",
   "metadata": {},
   "source": [
    "### 5. CUSTOMER CHURN - FIND CUSTOMERS WHO HAVEN'T PLACED AN ORDER IN 2025 BUT DID IN 2024"
   ]
  },
  {
   "cell_type": "code",
   "execution_count": null,
   "id": "d8c9efc5-fd3b-4f7a-badd-506fd7d15633",
   "metadata": {},
   "outputs": [
    {
     "name": "stdout",
     "output_type": "stream",
     "text": [
      "Churned Customers (2024 active, no orders in 2025):\n",
      "Empty DataFrame\n",
      "Columns: [customer_id, customer_name]\n",
      "Index: []\n"
     ]
    }
   ],
   "source": [
    "# Ensure 'order_date' is in datetime format\n",
    "orders_df['order_date'] = pd.to_datetime(orders_df['order_date'], errors='coerce')\n",
    "\n",
    "orders_2024 = orders_df[(orders_df['order_date'].dt.year == 2024)]\n",
    "customers_2024 = set(orders_2024['customer_id'])\n",
    "\n",
    "orders_2025 = orders_df[(orders_df['order_date'].dt.year == 2025)]\n",
    "customers_2025 = set(orders_2025['customer_id'])\n",
    "\n",
    "churned_customers = customers_2024 - customers_2025\n",
    "\n",
    "churned_df = customers_df[customers_df['customer_id'].isin(churned_customers)][['customer_id', 'customer_name']]\n",
    "\n",
    "print(\"Churned Customers (2024 active, no orders in 2025):\")\n",
    "print(churned_df.head(10))\n"
   ]
  },
  {
   "cell_type": "markdown",
   "id": "00fc7caf-834e-4a0a-a13b-0ebfe8b1c3e7",
   "metadata": {},
   "source": [
    "# Customer Segmentation"
   ]
  },
  {
   "cell_type": "code",
   "execution_count": null,
   "id": "775f38ef-c4ef-4a76-b822-a065c701bf29",
   "metadata": {},
   "outputs": [
    {
     "name": "stdout",
     "output_type": "stream",
     "text": [
      "Segment Breakdown:\n",
      " segment\n",
      "Regular Buyer    10000\n",
      "Name: count, dtype: int64\n",
      "\n",
      " Sample from segment: Regular Buyer\n",
      "   customer_id customer_name  total_orders  total_spend  avg_order_value  \\\n",
      "0            1     Hazel Lad            97     74644.73       769.533299   \n",
      "1            2  Biju Sampath           105     88343.01       841.362000   \n",
      "2            3   Gatik Vohra            95     76167.09       801.758842   \n",
      "\n",
      "  last_order_date  recency_days        segment  \n",
      "0      2025-12-05          -112  Regular Buyer  \n",
      "1      2025-12-05          -112  Regular Buyer  \n",
      "2      2025-11-02           -79  Regular Buyer  \n"
     ]
    }
   ],
   "source": [
    "# Step 1: Merge orders with customers\n",
    "orders_df['order_date'] = pd.to_datetime(orders_df['order_date'])\n",
    "merged_df = orders_df.merge(customers_df, on='customer_id', how='left')\n",
    "\n",
    "# Step 2: Group by customer_id to get metrics\n",
    "customer_metrics = merged_df.groupby(['customer_id', 'customer_name']).agg(\n",
    "    total_orders = ('order_id', 'count'),\n",
    "    total_spend = ('total_amount', 'sum'),\n",
    "    avg_order_value = ('total_amount', 'mean'),\n",
    "    last_order_date = ('order_date', 'max')\n",
    ").reset_index()\n",
    "\n",
    "# Step 3: Add recency in days\n",
    "today = pd.Timestamp.today()\n",
    "customer_metrics['recency_days'] = (today - customer_metrics['last_order_date']).dt.days\n",
    "\n",
    "# Step 4: Segment based on rules\n",
    "def segment_customer(row):\n",
    "    if row['total_spend'] > 100000 and row['total_orders'] > 200:\n",
    "        return 'High-Value Loyal'\n",
    "    elif row['total_orders'] > 150:\n",
    "        return 'Frequent Buyer'\n",
    "    elif row['recency_days'] > 180:\n",
    "        return 'At Risk'\n",
    "    elif row['total_orders'] < 10:\n",
    "        return 'Occasional Buyer'\n",
    "    else:\n",
    "        return 'Regular Buyer'\n",
    "\n",
    "customer_metrics['segment'] = customer_metrics.apply(segment_customer, axis=1)\n",
    "\n",
    "segment_counts = customer_metrics['segment'].value_counts()\n",
    "print(\"Segment Breakdown:\\n\", segment_counts)\n",
    "\n",
    "for seg in customer_metrics['segment'].unique():\n",
    "    print(f\"\\n Sample from segment: {seg}\")\n",
    "    print(customer_metrics[customer_metrics['segment'] == seg].head(3))\n"
   ]
  },
  {
   "cell_type": "code",
   "execution_count": 8,
   "id": "dcdd814f-bdf0-48ed-9a05-18c17d8ae348",
   "metadata": {},
   "outputs": [
    {
     "name": "stdout",
     "output_type": "stream",
     "text": [
      "   customer_id  total_orders\n",
      "0            1            97\n",
      "1            2           105\n",
      "2            3            95\n",
      "3            4           101\n",
      "4            5           107\n"
     ]
    },
    {
     "data": {
      "text/html": [
       "<div>\n",
       "<style scoped>\n",
       "    .dataframe tbody tr th:only-of-type {\n",
       "        vertical-align: middle;\n",
       "    }\n",
       "\n",
       "    .dataframe tbody tr th {\n",
       "        vertical-align: top;\n",
       "    }\n",
       "\n",
       "    .dataframe thead th {\n",
       "        text-align: right;\n",
       "    }\n",
       "</style>\n",
       "<table border=\"1\" class=\"dataframe\">\n",
       "  <thead>\n",
       "    <tr style=\"text-align: right;\">\n",
       "      <th></th>\n",
       "      <th>order_id</th>\n",
       "      <th>customer_id</th>\n",
       "      <th>restaurant_id</th>\n",
       "      <th>order_item</th>\n",
       "      <th>order_date</th>\n",
       "      <th>order_time</th>\n",
       "      <th>order_status</th>\n",
       "      <th>total_amount</th>\n",
       "    </tr>\n",
       "  </thead>\n",
       "  <tbody>\n",
       "    <tr>\n",
       "      <th>0</th>\n",
       "      <td>1</td>\n",
       "      <td>3009</td>\n",
       "      <td>345</td>\n",
       "      <td>Masala Dosa</td>\n",
       "      <td>2024-07-16</td>\n",
       "      <td>17:11:37</td>\n",
       "      <td>completed</td>\n",
       "      <td>649.33</td>\n",
       "    </tr>\n",
       "    <tr>\n",
       "      <th>1</th>\n",
       "      <td>2</td>\n",
       "      <td>2819</td>\n",
       "      <td>235</td>\n",
       "      <td>Pasta Alfredo</td>\n",
       "      <td>2024-07-28</td>\n",
       "      <td>10:56:54</td>\n",
       "      <td>completed</td>\n",
       "      <td>221.85</td>\n",
       "    </tr>\n",
       "    <tr>\n",
       "      <th>2</th>\n",
       "      <td>3</td>\n",
       "      <td>7980</td>\n",
       "      <td>631</td>\n",
       "      <td>Spring Rolls</td>\n",
       "      <td>2025-05-14</td>\n",
       "      <td>12:15:50</td>\n",
       "      <td>completed</td>\n",
       "      <td>1439.30</td>\n",
       "    </tr>\n",
       "    <tr>\n",
       "      <th>3</th>\n",
       "      <td>4</td>\n",
       "      <td>7055</td>\n",
       "      <td>9</td>\n",
       "      <td>Tandoori Chicken</td>\n",
       "      <td>2025-05-06</td>\n",
       "      <td>00:41:22</td>\n",
       "      <td>pending</td>\n",
       "      <td>548.19</td>\n",
       "    </tr>\n",
       "    <tr>\n",
       "      <th>4</th>\n",
       "      <td>5</td>\n",
       "      <td>5575</td>\n",
       "      <td>350</td>\n",
       "      <td>Tandoori Chicken</td>\n",
       "      <td>2025-05-17</td>\n",
       "      <td>13:25:18</td>\n",
       "      <td>completed</td>\n",
       "      <td>1261.91</td>\n",
       "    </tr>\n",
       "  </tbody>\n",
       "</table>\n",
       "</div>"
      ],
      "text/plain": [
       "   order_id  customer_id  restaurant_id        order_item  order_date  \\\n",
       "0         1         3009            345       Masala Dosa  2024-07-16   \n",
       "1         2         2819            235     Pasta Alfredo  2024-07-28   \n",
       "2         3         7980            631      Spring Rolls  2025-05-14   \n",
       "3         4         7055              9  Tandoori Chicken  2025-05-06   \n",
       "4         5         5575            350  Tandoori Chicken  2025-05-17   \n",
       "\n",
       "  order_time order_status  total_amount  \n",
       "0   17:11:37    completed        649.33  \n",
       "1   10:56:54    completed        221.85  \n",
       "2   12:15:50    completed       1439.30  \n",
       "3   00:41:22      pending        548.19  \n",
       "4   13:25:18    completed       1261.91  "
      ]
     },
     "execution_count": 8,
     "metadata": {},
     "output_type": "execute_result"
    }
   ],
   "source": [
    "# Count total orders placed by each customer\n",
    "customer_order_counts = orders_df.groupby('customer_id').size().reset_index(name='total_orders')\n",
    "\n",
    "print(customer_order_counts.head())\n",
    "orders_df.head()"
   ]
  },
  {
   "cell_type": "code",
   "execution_count": 64,
   "id": "8452af04-ef32-4427-89ff-22bd7a18a1c2",
   "metadata": {},
   "outputs": [
    {
     "data": {
      "text/html": [
       "<div>\n",
       "<style scoped>\n",
       "    .dataframe tbody tr th:only-of-type {\n",
       "        vertical-align: middle;\n",
       "    }\n",
       "\n",
       "    .dataframe tbody tr th {\n",
       "        vertical-align: top;\n",
       "    }\n",
       "\n",
       "    .dataframe thead th {\n",
       "        text-align: right;\n",
       "    }\n",
       "</style>\n",
       "<table border=\"1\" class=\"dataframe\">\n",
       "  <thead>\n",
       "    <tr style=\"text-align: right;\">\n",
       "      <th></th>\n",
       "      <th>order_id</th>\n",
       "      <th>customer_id</th>\n",
       "      <th>restaurant_id</th>\n",
       "      <th>order_date</th>\n",
       "      <th>order_time</th>\n",
       "      <th>order_status</th>\n",
       "      <th>total_amount</th>\n",
       "    </tr>\n",
       "    <tr>\n",
       "      <th>order_item</th>\n",
       "      <th></th>\n",
       "      <th></th>\n",
       "      <th></th>\n",
       "      <th></th>\n",
       "      <th></th>\n",
       "      <th></th>\n",
       "      <th></th>\n",
       "    </tr>\n",
       "  </thead>\n",
       "  <tbody>\n",
       "    <tr>\n",
       "      <th>Butter Naan</th>\n",
       "      <td>3</td>\n",
       "      <td>3</td>\n",
       "      <td>3</td>\n",
       "      <td>3</td>\n",
       "      <td>3</td>\n",
       "      <td>3</td>\n",
       "      <td>3</td>\n",
       "    </tr>\n",
       "    <tr>\n",
       "      <th>Chicken Biryani</th>\n",
       "      <td>11</td>\n",
       "      <td>11</td>\n",
       "      <td>11</td>\n",
       "      <td>11</td>\n",
       "      <td>11</td>\n",
       "      <td>11</td>\n",
       "      <td>11</td>\n",
       "    </tr>\n",
       "    <tr>\n",
       "      <th>Chicken Shawarma</th>\n",
       "      <td>6</td>\n",
       "      <td>6</td>\n",
       "      <td>6</td>\n",
       "      <td>6</td>\n",
       "      <td>6</td>\n",
       "      <td>6</td>\n",
       "      <td>6</td>\n",
       "    </tr>\n",
       "    <tr>\n",
       "      <th>Chole Bhature</th>\n",
       "      <td>5</td>\n",
       "      <td>5</td>\n",
       "      <td>5</td>\n",
       "      <td>5</td>\n",
       "      <td>5</td>\n",
       "      <td>5</td>\n",
       "      <td>5</td>\n",
       "    </tr>\n",
       "    <tr>\n",
       "      <th>Dal Makhani</th>\n",
       "      <td>9</td>\n",
       "      <td>9</td>\n",
       "      <td>9</td>\n",
       "      <td>9</td>\n",
       "      <td>9</td>\n",
       "      <td>9</td>\n",
       "      <td>9</td>\n",
       "    </tr>\n",
       "    <tr>\n",
       "      <th>Fish Curry</th>\n",
       "      <td>8</td>\n",
       "      <td>8</td>\n",
       "      <td>8</td>\n",
       "      <td>8</td>\n",
       "      <td>8</td>\n",
       "      <td>8</td>\n",
       "      <td>8</td>\n",
       "    </tr>\n",
       "    <tr>\n",
       "      <th>Hyderabadi Biryani</th>\n",
       "      <td>12</td>\n",
       "      <td>12</td>\n",
       "      <td>12</td>\n",
       "      <td>12</td>\n",
       "      <td>12</td>\n",
       "      <td>12</td>\n",
       "      <td>12</td>\n",
       "    </tr>\n",
       "    <tr>\n",
       "      <th>Margherita Pizza</th>\n",
       "      <td>7</td>\n",
       "      <td>7</td>\n",
       "      <td>7</td>\n",
       "      <td>7</td>\n",
       "      <td>7</td>\n",
       "      <td>7</td>\n",
       "      <td>7</td>\n",
       "    </tr>\n",
       "    <tr>\n",
       "      <th>Masala Dosa</th>\n",
       "      <td>10</td>\n",
       "      <td>10</td>\n",
       "      <td>10</td>\n",
       "      <td>10</td>\n",
       "      <td>10</td>\n",
       "      <td>10</td>\n",
       "      <td>10</td>\n",
       "    </tr>\n",
       "    <tr>\n",
       "      <th>Mutton Rogan Josh</th>\n",
       "      <td>8</td>\n",
       "      <td>8</td>\n",
       "      <td>8</td>\n",
       "      <td>8</td>\n",
       "      <td>8</td>\n",
       "      <td>8</td>\n",
       "      <td>8</td>\n",
       "    </tr>\n",
       "    <tr>\n",
       "      <th>Paneer Butter Masala</th>\n",
       "      <td>8</td>\n",
       "      <td>8</td>\n",
       "      <td>8</td>\n",
       "      <td>8</td>\n",
       "      <td>8</td>\n",
       "      <td>8</td>\n",
       "      <td>8</td>\n",
       "    </tr>\n",
       "    <tr>\n",
       "      <th>Pasta Alfredo</th>\n",
       "      <td>1</td>\n",
       "      <td>1</td>\n",
       "      <td>1</td>\n",
       "      <td>1</td>\n",
       "      <td>1</td>\n",
       "      <td>1</td>\n",
       "      <td>1</td>\n",
       "    </tr>\n",
       "    <tr>\n",
       "      <th>Spring Rolls</th>\n",
       "      <td>4</td>\n",
       "      <td>4</td>\n",
       "      <td>4</td>\n",
       "      <td>4</td>\n",
       "      <td>4</td>\n",
       "      <td>4</td>\n",
       "      <td>4</td>\n",
       "    </tr>\n",
       "    <tr>\n",
       "      <th>Tandoori Chicken</th>\n",
       "      <td>5</td>\n",
       "      <td>5</td>\n",
       "      <td>5</td>\n",
       "      <td>5</td>\n",
       "      <td>5</td>\n",
       "      <td>5</td>\n",
       "      <td>5</td>\n",
       "    </tr>\n",
       "    <tr>\n",
       "      <th>Veg Manchurian</th>\n",
       "      <td>9</td>\n",
       "      <td>9</td>\n",
       "      <td>9</td>\n",
       "      <td>9</td>\n",
       "      <td>9</td>\n",
       "      <td>9</td>\n",
       "      <td>9</td>\n",
       "    </tr>\n",
       "  </tbody>\n",
       "</table>\n",
       "</div>"
      ],
      "text/plain": [
       "                      order_id  customer_id  restaurant_id  order_date  \\\n",
       "order_item                                                               \n",
       "Butter Naan                  3            3              3           3   \n",
       "Chicken Biryani             11           11             11          11   \n",
       "Chicken Shawarma             6            6              6           6   \n",
       "Chole Bhature                5            5              5           5   \n",
       "Dal Makhani                  9            9              9           9   \n",
       "Fish Curry                   8            8              8           8   \n",
       "Hyderabadi Biryani          12           12             12          12   \n",
       "Margherita Pizza             7            7              7           7   \n",
       "Masala Dosa                 10           10             10          10   \n",
       "Mutton Rogan Josh            8            8              8           8   \n",
       "Paneer Butter Masala         8            8              8           8   \n",
       "Pasta Alfredo                1            1              1           1   \n",
       "Spring Rolls                 4            4              4           4   \n",
       "Tandoori Chicken             5            5              5           5   \n",
       "Veg Manchurian               9            9              9           9   \n",
       "\n",
       "                      order_time  order_status  total_amount  \n",
       "order_item                                                    \n",
       "Butter Naan                    3             3             3  \n",
       "Chicken Biryani               11            11            11  \n",
       "Chicken Shawarma               6             6             6  \n",
       "Chole Bhature                  5             5             5  \n",
       "Dal Makhani                    9             9             9  \n",
       "Fish Curry                     8             8             8  \n",
       "Hyderabadi Biryani            12            12            12  \n",
       "Margherita Pizza               7             7             7  \n",
       "Masala Dosa                   10            10            10  \n",
       "Mutton Rogan Josh              8             8             8  \n",
       "Paneer Butter Masala           8             8             8  \n",
       "Pasta Alfredo                  1             1             1  \n",
       "Spring Rolls                   4             4             4  \n",
       "Tandoori Chicken               5             5             5  \n",
       "Veg Manchurian                 9             9             9  "
      ]
     },
     "execution_count": 64,
     "metadata": {},
     "output_type": "execute_result"
    }
   ],
   "source": [
    "orders_df[orders_df['customer_id']==3009].groupby('order_item').count()"
   ]
  },
  {
   "cell_type": "markdown",
   "id": "50618a37-5600-4e6a-b6bd-65d7a130f5dc",
   "metadata": {},
   "source": [
    "### Menu Recommendation"
   ]
  },
  {
   "cell_type": "code",
   "execution_count": null,
   "id": "33e9657c-a610-42af-a03e-3990426aa573",
   "metadata": {},
   "outputs": [
    {
     "name": "stdout",
     "output_type": "stream",
     "text": [
      "Recommended dishes for customer 3009:\n",
      "No new dishes to recommend for Customer 3009.\n"
     ]
    }
   ],
   "source": [
    "\n",
    "user_item_matrix = orders_df.groupby(['customer_id', 'order_item']) \\\n",
    "                            .size() \\\n",
    "                            .unstack(fill_value=0)\n",
    "\n",
    "\n",
    "user_similarity = pd.DataFrame(\n",
    "    cosine_similarity(user_item_matrix),\n",
    "    index=user_item_matrix.index,\n",
    "    columns=user_item_matrix.index\n",
    ")\n",
    "\n",
    "def recommend_dishes(customer_id, top_n=1):\n",
    "    if customer_id not in user_similarity.index:\n",
    "        return f\"Customer ID {customer_id} not found in dataset.\"\n",
    "\n",
    "    # Find top 5 similar users (excluding the customer themselves)\n",
    "    similar_users = user_similarity[customer_id] \\\n",
    "                     .sort_values(ascending=False) \\\n",
    "                     .drop(customer_id) \\\n",
    "                     .head(5)\n",
    "\n",
    "    if similar_users.empty:\n",
    "        return f\"No similar users found for Customer {customer_id}.\"\n",
    "\n",
    "    # Combine orders from similar users\n",
    "    similar_users_orders = user_item_matrix.loc[similar_users.index]\n",
    "\n",
    "    # Get average frequency of items ordered by similar users\n",
    "    mean_order_scores = similar_users_orders.mean(axis=0)\n",
    "\n",
    "    # Filter out items already ordered by the customer\n",
    "    customer_orders = user_item_matrix.loc[customer_id]\n",
    "    dishes_not_ordered = mean_order_scores[customer_orders == 0]\n",
    "\n",
    "    if dishes_not_ordered.empty:\n",
    "        return f\"No new dishes to recommend for Customer {customer_id}.\"\n",
    "\n",
    "    # Recommend top N dishes\n",
    "    recommendations = dishes_not_ordered.sort_values(ascending=False).head(top_n)\n",
    "\n",
    "    return recommendations.index.tolist()\n",
    "\n",
    "sample_customer_id = 3009  \n",
    "\n",
    "recommendations = recommend_dishes(sample_customer_id)\n",
    "\n",
    "print(f\"Recommended dishes for customer {sample_customer_id}:\")\n",
    "print(recommendations)\n"
   ]
  },
  {
   "cell_type": "markdown",
   "id": "4b9fadac-9122-4911-b4e8-692ee61a78b2",
   "metadata": {},
   "source": [
    "### Price Forecasting"
   ]
  },
  {
   "cell_type": "code",
   "execution_count": null,
   "id": "17cf734c-6413-4552-b5a4-25ec6f4b057f",
   "metadata": {},
   "outputs": [
    {
     "name": "stdout",
     "output_type": "stream",
     "text": [
      "Price Recommendation:\n",
      "Dish: Masala Dosa\n",
      "Recommended Price (avg): 799.84\n",
      "Median Price: 800.93\n",
      "Lowest Seen: 100.01\n",
      "Highest Seen: 1499.99\n",
      "Total Times Ordered: 66289\n"
     ]
    }
   ],
   "source": [
    "\n",
    "price_stats = orders_df.groupby('order_item')['total_amount'].agg(['count', 'mean', 'median', 'min', 'max']).reset_index()\n",
    "price_stats = price_stats.rename(columns={\n",
    "    'count': 'times_ordered',\n",
    "    'mean': 'avg_price',\n",
    "    'median': 'median_price',\n",
    "    'min': 'min_price',\n",
    "    'max': 'max_price'\n",
    "})\n",
    "\n",
    "\n",
    "def recommend_price_for_dish(dish_name):\n",
    "    dish_row = price_stats[price_stats['order_item'] == dish_name]\n",
    "\n",
    "    if dish_row.empty:\n",
    "        return f\"No pricing data found for '{dish_name}'.\"\n",
    "    \n",
    "    dish_info = dish_row.iloc[0]\n",
    "    return {\n",
    "        'Dish': dish_name,\n",
    "        'Recommended Price (avg)': round(dish_info['avg_price'], 2),\n",
    "        'Median Price': round(dish_info['median_price'], 2),\n",
    "        'Lowest Seen': round(dish_info['min_price'], 2),\n",
    "        'Highest Seen': round(dish_info['max_price'], 2),\n",
    "        'Total Times Ordered': int(dish_info['times_ordered'])\n",
    "    }\n",
    "\n",
    "\n",
    "example_dish = \"Masala Dosa\"\n",
    "recommended_price = recommend_price_for_dish(example_dish)\n",
    "\n",
    "print(\"Price Recommendation:\")\n",
    "for k, v in recommended_price.items():\n",
    "    print(f\"{k}: {v}\")\n"
   ]
  },
  {
   "cell_type": "code",
   "execution_count": 34,
   "id": "ea4c4600-cf79-488c-bd06-4ed2e30e2dbc",
   "metadata": {},
   "outputs": [
    {
     "data": {
      "image/png": "[encoded data removed]",
      "text/plain": [
       "<Figure size 800x400 with 1 Axes>"
      ]
     },
     "metadata": {},
     "output_type": "display_data"
    }
   ],
   "source": [
    "def plot_price_distribution(dish_name):\n",
    "    dish_prices = orders_df[orders_df['order_item'] == dish_name]['total_amount']\n",
    "    \n",
    "    if dish_prices.empty:\n",
    "        print(f\"No data to plot for '{dish_name}'\")\n",
    "        return\n",
    "    \n",
    "    plt.figure(figsize=(8,4))\n",
    "    plt.hist(dish_prices, bins=30, edgecolor='black')\n",
    "    plt.title(f\"Price Distribution for '{dish_name}'\")\n",
    "    plt.xlabel(\"Price\")\n",
    "    plt.ylabel(\"Frequency\")\n",
    "    plt.grid(True)\n",
    "    plt.show()\n",
    "\n",
    "# Try plotting\n",
    "plot_price_distribution(\"Masala Dosa\")\n"
   ]
  }
 ],
 "metadata": {
  "kernelspec": {
   "display_name": "Python 3",
   "language": "python",
   "name": "python3"
  },
  "language_info": {
   "codemirror_mode": {
    "name": "ipython",
    "version": 3
   },
   "file_extension": ".py",
   "mimetype": "text/x-python",
   "name": "python",
   "nbconvert_exporter": "python",
   "pygments_lexer": "ipython3",
   "version": "3.13.2"
  }
 },
 "nbformat": 4,
 "nbformat_minor": 5
}
