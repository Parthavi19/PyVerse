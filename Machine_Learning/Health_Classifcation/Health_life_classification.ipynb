{
 "cells": [
  {
   "cell_type": "code",
   "execution_count": 1,
   "id": "63d5742e-ed3c-4217-a25d-e472cbec8e95",
   "metadata": {},
   "outputs": [],
   "source": [
    "import pandas as pd\n",
    "import numpy as np\n",
    "from matplotlib import pyplot as plt\n",
    "import os\n",
    "%matplotlib inline"
   ]
  },
  {
   "cell_type": "code",
   "execution_count": null,
   "id": "97a9b79d-781c-40b9-b6ed-2d2448cadf08",
   "metadata": {},
   "outputs": [],
   "source": [
    "DATA_DIR = r\"D:\\Desktop\\PyVerse\\Machine_Learning\\Health_Classifcation\\mental_health\"\n",
    "\n",
    "# Read CSV files\n",
    "Train_data = pd.read_csv(os.path.join(DATA_DIR, \"Train_Data.csv\"))\n",
    "Test_data  = pd.read_csv(os.path.join(DATA_DIR, \"Test_Data.csv\"))\n"
   ]
  },
  {
   "cell_type": "code",
   "execution_count": 3,
   "id": "939353e4-47f2-48ae-954b-8189bd22984c",
   "metadata": {},
   "outputs": [
    {
     "data": {
      "text/html": [
       "<div>\n",
       "<style scoped>\n",
       "    .dataframe tbody tr th:only-of-type {\n",
       "        vertical-align: middle;\n",
       "    }\n",
       "\n",
       "    .dataframe tbody tr th {\n",
       "        vertical-align: top;\n",
       "    }\n",
       "\n",
       "    .dataframe thead th {\n",
       "        text-align: right;\n",
       "    }\n",
       "</style>\n",
       "<table border=\"1\" class=\"dataframe\">\n",
       "  <thead>\n",
       "    <tr style=\"text-align: right;\">\n",
       "      <th></th>\n",
       "      <th>ID1</th>\n",
       "      <th>Specific ailments</th>\n",
       "      <th>ID2</th>\n",
       "      <th>Food preference</th>\n",
       "      <th>Age</th>\n",
       "      <th>BMI</th>\n",
       "      <th>Smoker?</th>\n",
       "      <th>Living in?</th>\n",
       "      <th>Any heriditary condition?</th>\n",
       "      <th>Follow Diet</th>\n",
       "      <th>Physical activity</th>\n",
       "      <th>Regular sleeping hours</th>\n",
       "      <th>Alcohol consumption</th>\n",
       "      <th>Social interaction</th>\n",
       "      <th>Taking supplements</th>\n",
       "      <th>Mental health management</th>\n",
       "      <th>Illness count last year</th>\n",
       "      <th>Healthy</th>\n",
       "    </tr>\n",
       "  </thead>\n",
       "  <tbody>\n",
       "    <tr>\n",
       "      <th>0</th>\n",
       "      <td>2408</td>\n",
       "      <td>44</td>\n",
       "      <td>2668</td>\n",
       "      <td>DX6</td>\n",
       "      <td>49</td>\n",
       "      <td>20.500470</td>\n",
       "      <td>NO</td>\n",
       "      <td>RURAL</td>\n",
       "      <td>Stable</td>\n",
       "      <td>1.0</td>\n",
       "      <td>0.0</td>\n",
       "      <td>0.0</td>\n",
       "      <td>0.0</td>\n",
       "      <td>0.0</td>\n",
       "      <td>0.0</td>\n",
       "      <td>0.0</td>\n",
       "      <td>1.0</td>\n",
       "      <td>1</td>\n",
       "    </tr>\n",
       "    <tr>\n",
       "      <th>1</th>\n",
       "      <td>25063</td>\n",
       "      <td>39</td>\n",
       "      <td>10363</td>\n",
       "      <td>DX3 DX4</td>\n",
       "      <td>20</td>\n",
       "      <td>26.076580</td>\n",
       "      <td>NO</td>\n",
       "      <td>URBAN</td>\n",
       "      <td>Stable</td>\n",
       "      <td>0.0</td>\n",
       "      <td>0.0</td>\n",
       "      <td>0.0</td>\n",
       "      <td>0.0</td>\n",
       "      <td>1.0</td>\n",
       "      <td>0.0</td>\n",
       "      <td>0.0</td>\n",
       "      <td>1.0</td>\n",
       "      <td>1</td>\n",
       "    </tr>\n",
       "    <tr>\n",
       "      <th>2</th>\n",
       "      <td>26798</td>\n",
       "      <td>29</td>\n",
       "      <td>132</td>\n",
       "      <td>DX6</td>\n",
       "      <td>1</td>\n",
       "      <td>21.420866</td>\n",
       "      <td>NO</td>\n",
       "      <td>URBAN</td>\n",
       "      <td>Stable</td>\n",
       "      <td>1.0</td>\n",
       "      <td>0.0</td>\n",
       "      <td>0.0</td>\n",
       "      <td>0.0</td>\n",
       "      <td>0.0</td>\n",
       "      <td>0.0</td>\n",
       "      <td>0.0</td>\n",
       "      <td>1.0</td>\n",
       "      <td>0</td>\n",
       "    </tr>\n",
       "    <tr>\n",
       "      <th>3</th>\n",
       "      <td>31907</td>\n",
       "      <td>27</td>\n",
       "      <td>10499</td>\n",
       "      <td>DX1</td>\n",
       "      <td>30</td>\n",
       "      <td>25.203247</td>\n",
       "      <td>NO</td>\n",
       "      <td>RURAL</td>\n",
       "      <td>Stable</td>\n",
       "      <td>1.0</td>\n",
       "      <td>0.0</td>\n",
       "      <td>0.0</td>\n",
       "      <td>0.0</td>\n",
       "      <td>0.0</td>\n",
       "      <td>0.0</td>\n",
       "      <td>0.0</td>\n",
       "      <td>1.0</td>\n",
       "      <td>1</td>\n",
       "    </tr>\n",
       "    <tr>\n",
       "      <th>4</th>\n",
       "      <td>26412</td>\n",
       "      <td>9</td>\n",
       "      <td>7963</td>\n",
       "      <td>DX6</td>\n",
       "      <td>40</td>\n",
       "      <td>19.355846</td>\n",
       "      <td>YES</td>\n",
       "      <td>RURAL</td>\n",
       "      <td>Stable</td>\n",
       "      <td>1.0</td>\n",
       "      <td>0.0</td>\n",
       "      <td>0.0</td>\n",
       "      <td>0.0</td>\n",
       "      <td>1.0</td>\n",
       "      <td>0.0</td>\n",
       "      <td>0.0</td>\n",
       "      <td>2.0</td>\n",
       "      <td>1</td>\n",
       "    </tr>\n",
       "  </tbody>\n",
       "</table>\n",
       "</div>"
      ],
      "text/plain": [
       "     ID1  Specific ailments    ID2 Food preference  Age        BMI Smoker?  \\\n",
       "0   2408                 44   2668             DX6   49  20.500470      NO   \n",
       "1  25063                 39  10363        DX3 DX4    20  26.076580      NO   \n",
       "2  26798                 29    132             DX6    1  21.420866      NO   \n",
       "3  31907                 27  10499            DX1    30  25.203247      NO   \n",
       "4  26412                  9   7963             DX6   40  19.355846     YES   \n",
       "\n",
       "  Living in? Any heriditary condition?  Follow Diet  Physical activity  \\\n",
       "0      RURAL                    Stable          1.0                0.0   \n",
       "1      URBAN                    Stable          0.0                0.0   \n",
       "2      URBAN                    Stable          1.0                0.0   \n",
       "3      RURAL                    Stable          1.0                0.0   \n",
       "4      RURAL                    Stable          1.0                0.0   \n",
       "\n",
       "   Regular sleeping hours  Alcohol consumption  Social interaction  \\\n",
       "0                     0.0                  0.0                 0.0   \n",
       "1                     0.0                  0.0                 1.0   \n",
       "2                     0.0                  0.0                 0.0   \n",
       "3                     0.0                  0.0                 0.0   \n",
       "4                     0.0                  0.0                 1.0   \n",
       "\n",
       "   Taking supplements  Mental health management  Illness count last year  \\\n",
       "0                 0.0                       0.0                      1.0   \n",
       "1                 0.0                       0.0                      1.0   \n",
       "2                 0.0                       0.0                      1.0   \n",
       "3                 0.0                       0.0                      1.0   \n",
       "4                 0.0                       0.0                      2.0   \n",
       "\n",
       "   Healthy  \n",
       "0        1  \n",
       "1        1  \n",
       "2        0  \n",
       "3        1  \n",
       "4        1  "
      ]
     },
     "execution_count": 3,
     "metadata": {},
     "output_type": "execute_result"
    }
   ],
   "source": [
    "Train_data.head()"
   ]
  },
  {
   "cell_type": "markdown",
   "id": "67d631e9-10bd-497a-8c29-23c019171634",
   "metadata": {},
   "source": [
    "lets EDA\n"
   ]
  },
  {
   "cell_type": "code",
   "execution_count": 4,
   "id": "7a8651ad-1c8a-49dd-a73f-dee404ee3da1",
   "metadata": {},
   "outputs": [
    {
     "data": {
      "text/html": [
       "<div>\n",
       "<style scoped>\n",
       "    .dataframe tbody tr th:only-of-type {\n",
       "        vertical-align: middle;\n",
       "    }\n",
       "\n",
       "    .dataframe tbody tr th {\n",
       "        vertical-align: top;\n",
       "    }\n",
       "\n",
       "    .dataframe thead th {\n",
       "        text-align: right;\n",
       "    }\n",
       "</style>\n",
       "<table border=\"1\" class=\"dataframe\">\n",
       "  <thead>\n",
       "    <tr style=\"text-align: right;\">\n",
       "      <th></th>\n",
       "      <th>ID1</th>\n",
       "      <th>Specific ailments</th>\n",
       "      <th>ID2</th>\n",
       "      <th>Food preference</th>\n",
       "      <th>Age</th>\n",
       "      <th>BMI</th>\n",
       "      <th>Smoker?</th>\n",
       "      <th>Living in?</th>\n",
       "      <th>Any heriditary condition?</th>\n",
       "      <th>Follow Diet</th>\n",
       "      <th>Physical activity</th>\n",
       "      <th>Regular sleeping hours</th>\n",
       "      <th>Alcohol consumption</th>\n",
       "      <th>Social interaction</th>\n",
       "      <th>Taking supplements</th>\n",
       "      <th>Mental health management</th>\n",
       "      <th>Illness count last year</th>\n",
       "    </tr>\n",
       "  </thead>\n",
       "  <tbody>\n",
       "    <tr>\n",
       "      <th>0</th>\n",
       "      <td>28534</td>\n",
       "      <td>2</td>\n",
       "      <td>3306</td>\n",
       "      <td>DX6</td>\n",
       "      <td>38</td>\n",
       "      <td>18.879331</td>\n",
       "      <td>YES</td>\n",
       "      <td>URBAN</td>\n",
       "      <td>Stable</td>\n",
       "      <td>0.0</td>\n",
       "      <td>0.0</td>\n",
       "      <td>0.0</td>\n",
       "      <td>0.0</td>\n",
       "      <td>0.0</td>\n",
       "      <td>1.0</td>\n",
       "      <td>0.0</td>\n",
       "      <td>1.0</td>\n",
       "    </tr>\n",
       "    <tr>\n",
       "      <th>1</th>\n",
       "      <td>7970</td>\n",
       "      <td>5</td>\n",
       "      <td>5573</td>\n",
       "      <td>DX1</td>\n",
       "      <td>46</td>\n",
       "      <td>21.231991</td>\n",
       "      <td>NO</td>\n",
       "      <td>URBAN</td>\n",
       "      <td>Stable</td>\n",
       "      <td>1.0</td>\n",
       "      <td>0.0</td>\n",
       "      <td>0.0</td>\n",
       "      <td>0.0</td>\n",
       "      <td>0.0</td>\n",
       "      <td>0.0</td>\n",
       "      <td>0.0</td>\n",
       "      <td>1.0</td>\n",
       "    </tr>\n",
       "    <tr>\n",
       "      <th>2</th>\n",
       "      <td>22039</td>\n",
       "      <td>37</td>\n",
       "      <td>9305</td>\n",
       "      <td>DX4</td>\n",
       "      <td>11</td>\n",
       "      <td>17.867876</td>\n",
       "      <td>NO</td>\n",
       "      <td>RURAL</td>\n",
       "      <td>Stable</td>\n",
       "      <td>1.0</td>\n",
       "      <td>0.0</td>\n",
       "      <td>0.0</td>\n",
       "      <td>0.0</td>\n",
       "      <td>0.0</td>\n",
       "      <td>0.0</td>\n",
       "      <td>0.0</td>\n",
       "      <td>1.0</td>\n",
       "    </tr>\n",
       "    <tr>\n",
       "      <th>3</th>\n",
       "      <td>12332</td>\n",
       "      <td>44</td>\n",
       "      <td>8274</td>\n",
       "      <td>DX5</td>\n",
       "      <td>10</td>\n",
       "      <td>26.886096</td>\n",
       "      <td>NO</td>\n",
       "      <td>RURAL</td>\n",
       "      <td>Stable</td>\n",
       "      <td>1.0</td>\n",
       "      <td>0.0</td>\n",
       "      <td>0.0</td>\n",
       "      <td>1.0</td>\n",
       "      <td>0.0</td>\n",
       "      <td>0.0</td>\n",
       "      <td>0.0</td>\n",
       "      <td>2.0</td>\n",
       "    </tr>\n",
       "    <tr>\n",
       "      <th>4</th>\n",
       "      <td>4116</td>\n",
       "      <td>37</td>\n",
       "      <td>4558</td>\n",
       "      <td>DX3 DX4</td>\n",
       "      <td>3</td>\n",
       "      <td>23.362746</td>\n",
       "      <td>NO</td>\n",
       "      <td>RURAL</td>\n",
       "      <td>Stable</td>\n",
       "      <td>0.0</td>\n",
       "      <td>1.0</td>\n",
       "      <td>0.0</td>\n",
       "      <td>1.0</td>\n",
       "      <td>0.0</td>\n",
       "      <td>0.0</td>\n",
       "      <td>0.0</td>\n",
       "      <td>2.0</td>\n",
       "    </tr>\n",
       "  </tbody>\n",
       "</table>\n",
       "</div>"
      ],
      "text/plain": [
       "     ID1  Specific ailments   ID2 Food preference  Age        BMI Smoker?  \\\n",
       "0  28534                  2  3306             DX6   38  18.879331     YES   \n",
       "1   7970                  5  5573            DX1    46  21.231991      NO   \n",
       "2  22039                 37  9305            DX4    11  17.867876      NO   \n",
       "3  12332                 44  8274            DX5    10  26.886096      NO   \n",
       "4   4116                 37  4558        DX3 DX4     3  23.362746      NO   \n",
       "\n",
       "  Living in? Any heriditary condition?  Follow Diet  Physical activity  \\\n",
       "0      URBAN                    Stable          0.0                0.0   \n",
       "1      URBAN                    Stable          1.0                0.0   \n",
       "2      RURAL                    Stable          1.0                0.0   \n",
       "3      RURAL                    Stable          1.0                0.0   \n",
       "4      RURAL                    Stable          0.0                1.0   \n",
       "\n",
       "   Regular sleeping hours  Alcohol consumption  Social interaction  \\\n",
       "0                     0.0                  0.0                 0.0   \n",
       "1                     0.0                  0.0                 0.0   \n",
       "2                     0.0                  0.0                 0.0   \n",
       "3                     0.0                  1.0                 0.0   \n",
       "4                     0.0                  1.0                 0.0   \n",
       "\n",
       "   Taking supplements  Mental health management  Illness count last year  \n",
       "0                 1.0                       0.0                      1.0  \n",
       "1                 0.0                       0.0                      1.0  \n",
       "2                 0.0                       0.0                      1.0  \n",
       "3                 0.0                       0.0                      2.0  \n",
       "4                 0.0                       0.0                      2.0  "
      ]
     },
     "execution_count": 4,
     "metadata": {},
     "output_type": "execute_result"
    }
   ],
   "source": [
    "\n",
    "Test_data.head()"
   ]
  },
  {
   "cell_type": "code",
   "execution_count": 5,
   "id": "2379ea49-f024-4254-8642-8293e0091625",
   "metadata": {
    "scrolled": true
   },
   "outputs": [
    {
     "data": {
      "text/plain": [
       "ID1                            0\n",
       "Specific ailments              0\n",
       "ID2                            0\n",
       "Food preference               10\n",
       "Age                            0\n",
       "BMI                            0\n",
       "Smoker?                        0\n",
       "Living in?                     0\n",
       "Any heriditary condition?      0\n",
       "Follow Diet                  973\n",
       "Physical activity            973\n",
       "Regular sleeping hours       973\n",
       "Alcohol consumption          973\n",
       "Social interaction           973\n",
       "Taking supplements           973\n",
       "Mental health management     973\n",
       "Illness count last year      973\n",
       "Healthy                        0\n",
       "dtype: int64"
      ]
     },
     "execution_count": 5,
     "metadata": {},
     "output_type": "execute_result"
    }
   ],
   "source": [
    "Train_data.isnull().sum()"
   ]
  },
  {
   "cell_type": "code",
   "execution_count": 6,
   "id": "9a046b26-5b16-4cee-89f1-a2d1468c78b9",
   "metadata": {},
   "outputs": [
    {
     "data": {
      "text/plain": [
       "ID1                            0\n",
       "Specific ailments              0\n",
       "ID2                            0\n",
       "Food preference                3\n",
       "Age                            0\n",
       "BMI                            0\n",
       "Smoker?                        0\n",
       "Living in?                     0\n",
       "Any heriditary condition?      0\n",
       "Follow Diet                  262\n",
       "Physical activity            262\n",
       "Regular sleeping hours       262\n",
       "Alcohol consumption          262\n",
       "Social interaction           262\n",
       "Taking supplements           262\n",
       "Mental health management     262\n",
       "Illness count last year      262\n",
       "dtype: int64"
      ]
     },
     "execution_count": 6,
     "metadata": {},
     "output_type": "execute_result"
    }
   ],
   "source": [
    "Test_data.isnull().sum()"
   ]
  },
  {
   "cell_type": "code",
   "execution_count": 7,
   "id": "03fbe99a-7427-498a-a180-546d65c09567",
   "metadata": {},
   "outputs": [],
   "source": [
    "\n",
    "Train_data.drop(columns=['ID1', 'ID2'], inplace=True)\n",
    "Test_data.drop(columns=['ID1', 'ID2'], inplace=True)"
   ]
  },
  {
   "cell_type": "code",
   "execution_count": 8,
   "id": "33739b06-7a97-452b-8cf2-6b46c58e2f82",
   "metadata": {},
   "outputs": [
    {
     "name": "stdout",
     "output_type": "stream",
     "text": [
      "<class 'pandas.core.frame.DataFrame'>\n",
      "RangeIndex: 25920 entries, 0 to 25919\n",
      "Data columns (total 16 columns):\n",
      " #   Column                     Non-Null Count  Dtype  \n",
      "---  ------                     --------------  -----  \n",
      " 0   Specific ailments          25920 non-null  int64  \n",
      " 1   Food preference            25910 non-null  object \n",
      " 2   Age                        25920 non-null  int64  \n",
      " 3   BMI                        25920 non-null  float64\n",
      " 4   Smoker?                    25920 non-null  object \n",
      " 5   Living in?                 25920 non-null  object \n",
      " 6   Any heriditary condition?  25920 non-null  object \n",
      " 7   Follow Diet                24947 non-null  float64\n",
      " 8   Physical activity          24947 non-null  float64\n",
      " 9   Regular sleeping hours     24947 non-null  float64\n",
      " 10  Alcohol consumption        24947 non-null  float64\n",
      " 11  Social interaction         24947 non-null  float64\n",
      " 12  Taking supplements         24947 non-null  float64\n",
      " 13  Mental health management   24947 non-null  float64\n",
      " 14  Illness count last year    24947 non-null  float64\n",
      " 15  Healthy                    25920 non-null  int64  \n",
      "dtypes: float64(9), int64(3), object(4)\n",
      "memory usage: 3.2+ MB\n"
     ]
    }
   ],
   "source": [
    "Train_data.info()"
   ]
  },
  {
   "cell_type": "code",
   "execution_count": 9,
   "id": "95c02f6c-65d4-4642-83cd-f36b53ec72b1",
   "metadata": {},
   "outputs": [
    {
     "name": "stdout",
     "output_type": "stream",
     "text": [
      "<class 'pandas.core.frame.DataFrame'>\n",
      "RangeIndex: 6480 entries, 0 to 6479\n",
      "Data columns (total 15 columns):\n",
      " #   Column                     Non-Null Count  Dtype  \n",
      "---  ------                     --------------  -----  \n",
      " 0   Specific ailments          6480 non-null   int64  \n",
      " 1   Food preference            6477 non-null   object \n",
      " 2   Age                        6480 non-null   int64  \n",
      " 3   BMI                        6480 non-null   float64\n",
      " 4   Smoker?                    6480 non-null   object \n",
      " 5   Living in?                 6480 non-null   object \n",
      " 6   Any heriditary condition?  6480 non-null   object \n",
      " 7   Follow Diet                6218 non-null   float64\n",
      " 8   Physical activity          6218 non-null   float64\n",
      " 9   Regular sleeping hours     6218 non-null   float64\n",
      " 10  Alcohol consumption        6218 non-null   float64\n",
      " 11  Social interaction         6218 non-null   float64\n",
      " 12  Taking supplements         6218 non-null   float64\n",
      " 13  Mental health management   6218 non-null   float64\n",
      " 14  Illness count last year    6218 non-null   float64\n",
      "dtypes: float64(9), int64(2), object(4)\n",
      "memory usage: 759.5+ KB\n"
     ]
    }
   ],
   "source": [
    "Test_data.info()"
   ]
  },
  {
   "cell_type": "code",
   "execution_count": 10,
   "id": "fd7bb83b-1b2e-489a-b3e3-9566b5d8efb2",
   "metadata": {},
   "outputs": [
    {
     "name": "stdout",
     "output_type": "stream",
     "text": [
      "Found 74 duplicate rows\n"
     ]
    }
   ],
   "source": [
    "# After line 608, add:\n",
    "print(f\"Found {Train_data.duplicated().sum()} duplicate rows\")\n"
   ]
  },
  {
   "cell_type": "code",
   "execution_count": 11,
   "id": "715adceb-8cad-4ac6-a6d1-c58df31b9730",
   "metadata": {},
   "outputs": [
    {
     "name": "stdout",
     "output_type": "stream",
     "text": [
      "Shape after removing duplicates: (25846, 16)\n"
     ]
    }
   ],
   "source": [
    "# Remove duplicates keeping first occurrence\n",
    "Train_data = Train_data.drop_duplicates(keep='first')\n",
    "print(f\"Shape after removing duplicates: {Train_data.shape}\")"
   ]
  },
  {
   "cell_type": "code",
   "execution_count": 12,
   "id": "7adb0104-c2da-435a-8061-bd7f9a7ada01",
   "metadata": {},
   "outputs": [
    {
     "data": {
      "text/plain": [
       "['Specific ailments',\n",
       " 'Age',\n",
       " 'BMI',\n",
       " 'Follow Diet',\n",
       " 'Physical activity',\n",
       " 'Regular sleeping hours',\n",
       " 'Alcohol consumption',\n",
       " 'Social interaction',\n",
       " 'Taking supplements',\n",
       " 'Mental health management',\n",
       " 'Illness count last year',\n",
       " 'Healthy']"
      ]
     },
     "execution_count": 12,
     "metadata": {},
     "output_type": "execute_result"
    }
   ],
   "source": [
    "numerical_col=Train_data.select_dtypes(include=\"number\").columns.tolist()\n",
    "numerical_col"
   ]
  },
  {
   "cell_type": "code",
   "execution_count": 13,
   "id": "d8a41724-9928-4207-9b9c-1f5ee414d239",
   "metadata": {},
   "outputs": [
    {
     "name": "stdout",
     "output_type": "stream",
     "text": [
      "0\n",
      "0\n",
      "0\n",
      "0\n",
      "0\n",
      "0\n",
      "0\n",
      "0\n",
      "0\n",
      "0\n",
      "0\n",
      "0\n"
     ]
    }
   ],
   "source": [
    "# filling null numerical value in train data\n",
    "for n_c in numerical_col:\n",
    "    if Train_data[n_c].isnull().sum()>0:\n",
    "        Train_data[n_c] = Train_data[n_c].fillna(Train_data[n_c].median())\n",
    "    \n",
    "for n_c in numerical_col:\n",
    "    print(Train_data[n_c].isnull().sum())"
   ]
  },
  {
   "cell_type": "code",
   "execution_count": 14,
   "id": "271fcc21-c274-454e-8574-1a8ecb96273c",
   "metadata": {},
   "outputs": [
    {
     "name": "stdout",
     "output_type": "stream",
     "text": [
      "0\n",
      "0\n",
      "0\n",
      "0\n",
      "0\n",
      "0\n",
      "0\n",
      "0\n",
      "0\n",
      "0\n",
      "0\n"
     ]
    }
   ],
   "source": [
    "# filling null numerical value in test data\n",
    "numerical_col=Test_data.select_dtypes(include=\"number\").columns.tolist()\n",
    "numerical_col\n",
    "\n",
    "for n_c in numerical_col:\n",
    "    if Test_data[n_c].isnull().sum()>0:\n",
    "        Test_data[n_c]=Test_data[n_c].fillna(Test_data[n_c].median())\n",
    "    \n",
    "for n_c in numerical_col:\n",
    "    print(Test_data[n_c].isnull().sum())"
   ]
  },
  {
   "cell_type": "code",
   "execution_count": 15,
   "id": "84c4be03-4ab2-42e5-ac56-ff08f2f33372",
   "metadata": {},
   "outputs": [],
   "source": [
    "# lets work on food preference\n",
    "Train_data.dropna(subset=['Food preference'],inplace=True)\n",
    "Test_data.dropna(subset=['Food preference'],inplace=True)"
   ]
  },
  {
   "cell_type": "code",
   "execution_count": 16,
   "id": "1e12f1d8-fc22-4528-bc09-c74d758062ed",
   "metadata": {},
   "outputs": [
    {
     "name": "stdout",
     "output_type": "stream",
     "text": [
      "Any heriditary condition?\n",
      "Stable    25836\n",
      "Name: count, dtype: int64\n",
      "Any heriditary condition?\n",
      "Stable    6477\n",
      "Name: count, dtype: int64\n"
     ]
    }
   ],
   "source": [
    "print(Train_data['Any heriditary condition?'].value_counts())\n",
    "print(Test_data['Any heriditary condition?'].value_counts())"
   ]
  },
  {
   "cell_type": "code",
   "execution_count": 17,
   "id": "b635eda9-63e2-4a24-95d1-437b012a28e5",
   "metadata": {},
   "outputs": [],
   "source": [
    "#only one hariditary condition remove this column also\n",
    "Train_data.drop(columns=['Any heriditary condition?'],inplace=True)\n",
    "Test_data.drop(columns=['Any heriditary condition?'],inplace=True)"
   ]
  },
  {
   "cell_type": "code",
   "execution_count": 18,
   "id": "41cfb3fa-40d2-48da-a215-533224e5454e",
   "metadata": {},
   "outputs": [
    {
     "data": {
      "text/plain": [
       "Mental health management\n",
       "0.0    25836\n",
       "Name: count, dtype: int64"
      ]
     },
     "execution_count": 18,
     "metadata": {},
     "output_type": "execute_result"
    }
   ],
   "source": [
    "# Lets see mental Mental health management\n",
    "Train_data['Mental health management'].value_counts()"
   ]
  },
  {
   "cell_type": "code",
   "execution_count": 19,
   "id": "588495ab-fe08-41cb-b1e1-fb49a2f1323e",
   "metadata": {},
   "outputs": [],
   "source": [
    "# Only one type of value in Mental health managemeent remove it\n",
    "Train_data.drop(columns=['Mental health management'],inplace=True)\n",
    "Test_data.drop(columns=['Mental health management'],inplace=True)"
   ]
  },
  {
   "cell_type": "code",
   "execution_count": 20,
   "id": "45dbaf8f-52e3-4cde-9e68-4e07605468c0",
   "metadata": {},
   "outputs": [
    {
     "data": {
      "text/plain": [
       "Illness count last year\n",
       "2.0    11282\n",
       "1.0    10603\n",
       "3.0     3468\n",
       "4.0      448\n",
       "5.0       35\n",
       "Name: count, dtype: int64"
      ]
     },
     "execution_count": 20,
     "metadata": {},
     "output_type": "execute_result"
    }
   ],
   "source": [
    "Train_data['Illness count last year'].value_counts()"
   ]
  },
  {
   "cell_type": "code",
   "execution_count": 21,
   "id": "fa5b0454-a531-427e-b2dc-d61100f6a250",
   "metadata": {},
   "outputs": [
    {
     "data": {
      "text/plain": [
       "Specific ailments          0\n",
       "Food preference            0\n",
       "Age                        0\n",
       "BMI                        0\n",
       "Smoker?                    0\n",
       "Living in?                 0\n",
       "Follow Diet                0\n",
       "Physical activity          0\n",
       "Regular sleeping hours     0\n",
       "Alcohol consumption        0\n",
       "Social interaction         0\n",
       "Taking supplements         0\n",
       "Illness count last year    0\n",
       "Healthy                    0\n",
       "dtype: int64"
      ]
     },
     "execution_count": 21,
     "metadata": {},
     "output_type": "execute_result"
    }
   ],
   "source": [
    "Train_data.isnull().sum()"
   ]
  },
  {
   "cell_type": "code",
   "execution_count": 22,
   "id": "0ecdd0f3-c134-4fbb-8752-34bd025b54d3",
   "metadata": {},
   "outputs": [
    {
     "data": {
      "text/plain": [
       "Specific ailments          0\n",
       "Food preference            0\n",
       "Age                        0\n",
       "BMI                        0\n",
       "Smoker?                    0\n",
       "Living in?                 0\n",
       "Follow Diet                0\n",
       "Physical activity          0\n",
       "Regular sleeping hours     0\n",
       "Alcohol consumption        0\n",
       "Social interaction         0\n",
       "Taking supplements         0\n",
       "Illness count last year    0\n",
       "dtype: int64"
      ]
     },
     "execution_count": 22,
     "metadata": {},
     "output_type": "execute_result"
    }
   ],
   "source": [
    "Test_data.isnull().sum()"
   ]
  },
  {
   "cell_type": "code",
   "execution_count": 23,
   "id": "46383d0e-d893-45a8-ba1e-8029ecca4359",
   "metadata": {},
   "outputs": [
    {
     "data": {
      "text/plain": [
       "Healthy\n",
       "1    16249\n",
       "0     9587\n",
       "Name: count, dtype: int64"
      ]
     },
     "execution_count": 23,
     "metadata": {},
     "output_type": "execute_result"
    }
   ],
   "source": [
    "Train_data['Healthy'].value_counts()"
   ]
  },
  {
   "cell_type": "code",
   "execution_count": 24,
   "id": "d0294f6a-24d6-42b6-ab85-43c5b98febcc",
   "metadata": {},
   "outputs": [
    {
     "data": {
      "text/html": [
       "\n",
       "            <div>\n",
       "                <ins><a href=\"https://ydata.ai/register\">Upgrade to ydata-sdk</a></ins>\n",
       "                <p>\n",
       "                    Improve your data and profiling with ydata-sdk, featuring data quality scoring, redundancy detection, outlier identification, text validation, and synthetic data generation.\n",
       "                </p>\n",
       "            </div>\n",
       "            "
      ],
      "text/plain": [
       "<IPython.core.display.HTML object>"
      ]
     },
     "metadata": {},
     "output_type": "display_data"
    },
    {
     "data": {
      "application/vnd.jupyter.widget-view+json": {
       "model_id": "c11b779070b44a289944138751ac8366",
       "version_major": 2,
       "version_minor": 0
      },
      "text/plain": [
       "Summarize dataset:   0%|          | 0/5 [00:00<?, ?it/s]"
      ]
     },
     "metadata": {},
     "output_type": "display_data"
    },
    {
     "name": "stderr",
     "output_type": "stream",
     "text": [
      "\n",
      "100%|█████████████████████████████████████████████████████████████████████████████████| 14/14 [00:00<00:00, 158.87it/s]\u001b[A\n"
     ]
    },
    {
     "data": {
      "application/vnd.jupyter.widget-view+json": {
       "model_id": "eecb699368164ab6945b486a709c8a33",
       "version_major": 2,
       "version_minor": 0
      },
      "text/plain": [
       "Generate report structure:   0%|          | 0/1 [00:00<?, ?it/s]"
      ]
     },
     "metadata": {},
     "output_type": "display_data"
    },
    {
     "data": {
      "application/vnd.jupyter.widget-view+json": {
       "model_id": "e944a333e02d4386ab29f854d614dfed",
       "version_major": 2,
       "version_minor": 0
      },
      "text/plain": [
       "Render HTML:   0%|          | 0/1 [00:00<?, ?it/s]"
      ]
     },
     "metadata": {},
     "output_type": "display_data"
    },
    {
     "data": {
      "application/vnd.jupyter.widget-view+json": {
       "model_id": "5fe742231f0c4fb3ab21b1e3e9a52b50",
       "version_major": 2,
       "version_minor": 0
      },
      "text/plain": [
       "Export report to file:   0%|          | 0/1 [00:00<?, ?it/s]"
      ]
     },
     "metadata": {},
     "output_type": "display_data"
    }
   ],
   "source": [
    "# wee saw all missing value and the outlliers are handled lets see its panda profiling\n",
    "from ydata_profiling import ProfileReport\n",
    "report=ProfileReport(Train_data)\n",
    "report.to_file('health1.html')"
   ]
  },
  {
   "cell_type": "code",
   "execution_count": 25,
   "id": "e8712f5f-3db0-41f4-b75b-b759848dabc2",
   "metadata": {},
   "outputs": [
    {
     "data": {
      "text/html": [
       "<div>\n",
       "<style scoped>\n",
       "    .dataframe tbody tr th:only-of-type {\n",
       "        vertical-align: middle;\n",
       "    }\n",
       "\n",
       "    .dataframe tbody tr th {\n",
       "        vertical-align: top;\n",
       "    }\n",
       "\n",
       "    .dataframe thead th {\n",
       "        text-align: right;\n",
       "    }\n",
       "</style>\n",
       "<table border=\"1\" class=\"dataframe\">\n",
       "  <thead>\n",
       "    <tr style=\"text-align: right;\">\n",
       "      <th></th>\n",
       "      <th>Specific ailments</th>\n",
       "      <th>Food preference</th>\n",
       "      <th>Age</th>\n",
       "      <th>BMI</th>\n",
       "      <th>Smoker?</th>\n",
       "      <th>Living in?</th>\n",
       "      <th>Follow Diet</th>\n",
       "      <th>Physical activity</th>\n",
       "      <th>Regular sleeping hours</th>\n",
       "      <th>Alcohol consumption</th>\n",
       "      <th>Social interaction</th>\n",
       "      <th>Taking supplements</th>\n",
       "      <th>Illness count last year</th>\n",
       "    </tr>\n",
       "  </thead>\n",
       "  <tbody>\n",
       "    <tr>\n",
       "      <th>0</th>\n",
       "      <td>44</td>\n",
       "      <td>DX6</td>\n",
       "      <td>49</td>\n",
       "      <td>20.500470</td>\n",
       "      <td>NO</td>\n",
       "      <td>RURAL</td>\n",
       "      <td>1.0</td>\n",
       "      <td>0.0</td>\n",
       "      <td>0.0</td>\n",
       "      <td>0.0</td>\n",
       "      <td>0.0</td>\n",
       "      <td>0.0</td>\n",
       "      <td>1.0</td>\n",
       "    </tr>\n",
       "    <tr>\n",
       "      <th>1</th>\n",
       "      <td>39</td>\n",
       "      <td>DX3 DX4</td>\n",
       "      <td>20</td>\n",
       "      <td>26.076580</td>\n",
       "      <td>NO</td>\n",
       "      <td>URBAN</td>\n",
       "      <td>0.0</td>\n",
       "      <td>0.0</td>\n",
       "      <td>0.0</td>\n",
       "      <td>0.0</td>\n",
       "      <td>1.0</td>\n",
       "      <td>0.0</td>\n",
       "      <td>1.0</td>\n",
       "    </tr>\n",
       "    <tr>\n",
       "      <th>2</th>\n",
       "      <td>29</td>\n",
       "      <td>DX6</td>\n",
       "      <td>1</td>\n",
       "      <td>21.420866</td>\n",
       "      <td>NO</td>\n",
       "      <td>URBAN</td>\n",
       "      <td>1.0</td>\n",
       "      <td>0.0</td>\n",
       "      <td>0.0</td>\n",
       "      <td>0.0</td>\n",
       "      <td>0.0</td>\n",
       "      <td>0.0</td>\n",
       "      <td>1.0</td>\n",
       "    </tr>\n",
       "    <tr>\n",
       "      <th>3</th>\n",
       "      <td>27</td>\n",
       "      <td>DX1</td>\n",
       "      <td>30</td>\n",
       "      <td>25.203247</td>\n",
       "      <td>NO</td>\n",
       "      <td>RURAL</td>\n",
       "      <td>1.0</td>\n",
       "      <td>0.0</td>\n",
       "      <td>0.0</td>\n",
       "      <td>0.0</td>\n",
       "      <td>0.0</td>\n",
       "      <td>0.0</td>\n",
       "      <td>1.0</td>\n",
       "    </tr>\n",
       "    <tr>\n",
       "      <th>4</th>\n",
       "      <td>9</td>\n",
       "      <td>DX6</td>\n",
       "      <td>40</td>\n",
       "      <td>19.355846</td>\n",
       "      <td>YES</td>\n",
       "      <td>RURAL</td>\n",
       "      <td>1.0</td>\n",
       "      <td>0.0</td>\n",
       "      <td>0.0</td>\n",
       "      <td>0.0</td>\n",
       "      <td>1.0</td>\n",
       "      <td>0.0</td>\n",
       "      <td>2.0</td>\n",
       "    </tr>\n",
       "  </tbody>\n",
       "</table>\n",
       "</div>"
      ],
      "text/plain": [
       "   Specific ailments Food preference  Age        BMI Smoker? Living in?  \\\n",
       "0                 44             DX6   49  20.500470      NO      RURAL   \n",
       "1                 39        DX3 DX4    20  26.076580      NO      URBAN   \n",
       "2                 29             DX6    1  21.420866      NO      URBAN   \n",
       "3                 27            DX1    30  25.203247      NO      RURAL   \n",
       "4                  9             DX6   40  19.355846     YES      RURAL   \n",
       "\n",
       "   Follow Diet  Physical activity  Regular sleeping hours  \\\n",
       "0          1.0                0.0                     0.0   \n",
       "1          0.0                0.0                     0.0   \n",
       "2          1.0                0.0                     0.0   \n",
       "3          1.0                0.0                     0.0   \n",
       "4          1.0                0.0                     0.0   \n",
       "\n",
       "   Alcohol consumption  Social interaction  Taking supplements  \\\n",
       "0                  0.0                 0.0                 0.0   \n",
       "1                  0.0                 1.0                 0.0   \n",
       "2                  0.0                 0.0                 0.0   \n",
       "3                  0.0                 0.0                 0.0   \n",
       "4                  0.0                 1.0                 0.0   \n",
       "\n",
       "   Illness count last year  \n",
       "0                      1.0  \n",
       "1                      1.0  \n",
       "2                      1.0  \n",
       "3                      1.0  \n",
       "4                      2.0  "
      ]
     },
     "execution_count": 25,
     "metadata": {},
     "output_type": "execute_result"
    }
   ],
   "source": [
    "X_train=Train_data.iloc[:, :-1]\n",
    "Y_train=Train_data['Healthy']\n",
    "X_train.head()"
   ]
  },
  {
   "cell_type": "code",
   "execution_count": 26,
   "id": "80529655-f55d-4123-951f-37f332d93fa0",
   "metadata": {},
   "outputs": [
    {
     "name": "stdout",
     "output_type": "stream",
     "text": [
      "0    1\n",
      "1    1\n",
      "2    0\n",
      "3    1\n",
      "4    1\n",
      "Name: Healthy, dtype: int64\n",
      "25915    1\n",
      "25916    0\n",
      "25917    1\n",
      "25918    1\n",
      "25919    1\n",
      "Name: Healthy, dtype: int64\n"
     ]
    }
   ],
   "source": [
    "print(Y_train.head())\n",
    "print(Y_train.tail())"
   ]
  },
  {
   "cell_type": "code",
   "execution_count": 27,
   "id": "43083dda-24bc-475f-b948-119d5ca54992",
   "metadata": {},
   "outputs": [
    {
     "name": "stdout",
     "output_type": "stream",
     "text": [
      "(25836, 13)\n",
      "(6477, 13)\n",
      "(25836,)\n"
     ]
    }
   ],
   "source": [
    "#Now outliers is handeled\n",
    "# lets start modeling\n",
    "X_test=Test_data\n",
    "print(X_train.shape)\n",
    "print(X_test.shape)\n",
    "print(Y_train.shape)\n"
   ]
  },
  {
   "cell_type": "code",
   "execution_count": 28,
   "id": "3ec98e55-b174-40ff-8a5c-d70294448952",
   "metadata": {},
   "outputs": [
    {
     "data": {
      "text/plain": [
       "Index(['Food preference', 'Smoker?', 'Living in?'], dtype='object')"
      ]
     },
     "execution_count": 28,
     "metadata": {},
     "output_type": "execute_result"
    }
   ],
   "source": [
    "cat_col=X_train.select_dtypes(exclude='number').columns\n",
    "cat_col"
   ]
  },
  {
   "cell_type": "code",
   "execution_count": 29,
   "id": "b569736e-5545-4b71-801b-1ac18e4a76d5",
   "metadata": {},
   "outputs": [],
   "source": [
    "# lets start firstly do encod categorical data\n",
    "from sklearn.preprocessing import OneHotEncoder,OrdinalEncoder,LabelEncoder\n",
    "\n",
    "ohe=OneHotEncoder(handle_unknown='ignore',sparse_output=False)\n",
    "\n",
    "oft=OrdinalEncoder(categories=[['NO','YES']])\n",
    "ol=OrdinalEncoder(categories=[['RURAL','URBAN']])\n",
    "le=LabelEncoder()\n"
   ]
  },
  {
   "cell_type": "code",
   "execution_count": 30,
   "id": "21984684-9143-480b-857b-b93bfebb1631",
   "metadata": {},
   "outputs": [],
   "source": [
    "from sklearn.compose import ColumnTransformer\n",
    "\n",
    "TF=ColumnTransformer(\n",
    "    transformers=[\n",
    "        \n",
    "        ('tnf1',ohe,['Food preference']),\n",
    "        ('tnf6',oft,['Smoker?']),\n",
    "        ('fnf11',ol,['Living in?']),\n",
    "        \n",
    "    ],remainder='passthrough'\n",
    "\n",
    ")\n"
   ]
  },
  {
   "cell_type": "code",
   "execution_count": 31,
   "id": "538f9355-ef2d-404f-b468-82586a6f857b",
   "metadata": {},
   "outputs": [],
   "source": [
    "from imblearn.over_sampling import SMOTEN\n",
    "bala=SMOTEN()"
   ]
  },
  {
   "cell_type": "code",
   "execution_count": 32,
   "id": "fe05d7a8-0321-4d8d-bf2b-8c0008df29b7",
   "metadata": {},
   "outputs": [],
   "source": [
    "# Lets use XGboost\n",
    "from xgboost import XGBClassifier\n",
    "from sklearn.ensemble import RandomForestClassifier\n",
    "from sklearn.ensemble import AdaBoostClassifier\n",
    "\n"
   ]
  },
  {
   "cell_type": "code",
   "execution_count": 33,
   "id": "fc75f2cb-f827-4ebd-b31a-b7f1882cc893",
   "metadata": {},
   "outputs": [],
   "source": [
    "model = XGBClassifier()            \n",
    "\n",
    "from imblearn.pipeline import Pipeline\n",
    "pipe=Pipeline(steps=[\n",
    "    ('tnf1',TF),\n",
    "    ('balance',bala),\n",
    "    ('model',model)\n",
    "])"
   ]
  },
  {
   "cell_type": "code",
   "execution_count": 34,
   "id": "d93a7a7f-5a3a-4d56-8e5d-0498c7e71654",
   "metadata": {},
   "outputs": [],
   "source": [
    "param_grid = [\n",
    "    {\n",
    "        'model': [RandomForestClassifier()],\n",
    "        'model__n_estimators': [100, 200,300,400],\n",
    "        'model__max_depth': [5, 10]\n",
    "    },\n",
    "    {\n",
    "        'model': [AdaBoostClassifier()],\n",
    "\n",
    "    },\n",
    "    {\n",
    "        'model':[XGBClassifier()],\n",
    "        'model__max_depth':[5,10],\n",
    "        'model__learning_rate':[0.01,0.1]\n",
    "    }\n",
    "]\n",
    "\n"
   ]
  },
  {
   "cell_type": "code",
   "execution_count": 35,
   "id": "b8dfaaf5-b26f-4918-9902-e73bb6d59d5d",
   "metadata": {},
   "outputs": [
    {
     "name": "stdout",
     "output_type": "stream",
     "text": [
      "Best params: {'model': XGBClassifier(base_score=None, booster=None, callbacks=None,\n",
      "              colsample_bylevel=None, colsample_bynode=None,\n",
      "              colsample_bytree=None, device=None, early_stopping_rounds=None,\n",
      "              enable_categorical=False, eval_metric=None, feature_types=None,\n",
      "              feature_weights=None, gamma=None, grow_policy=None,\n",
      "              importance_type=None, interaction_constraints=None,\n",
      "              learning_rate=None, max_bin=None, max_cat_threshold=None,\n",
      "              max_cat_to_onehot=None, max_delta_step=None, max_depth=None,\n",
      "              max_leaves=None, min_child_weight=None, missing=nan,\n",
      "              monotone_constraints=None, multi_strategy=None, n_estimators=None,\n",
      "              n_jobs=None, num_parallel_tree=None, ...), 'model__learning_rate': 0.1, 'model__max_depth': 5}\n",
      "Best CV score from GridSearch: 0.8227280877514543\n"
     ]
    }
   ],
   "source": [
    "# 3️⃣ GridSearchCV\n",
    "from sklearn.model_selection import GridSearchCV\n",
    "final = GridSearchCV(pipe, param_grid, cv=5, scoring='accuracy', n_jobs=-1)\n",
    "final.fit(X_train, Y_train)\n",
    "\n",
    "print(\"Best params:\", final.best_params_)\n",
    "print(\"Best CV score from GridSearch:\", final.best_score_)\n"
   ]
  },
  {
   "cell_type": "code",
   "execution_count": 36,
   "id": "08a374b7-2cd4-402a-bc33-9c7754c9787c",
   "metadata": {},
   "outputs": [
    {
     "name": "stdout",
     "output_type": "stream",
     "text": [
      "Predictions saved to test_predictions.csv\n",
      "Prediction distribution: 1    3757\n",
      "0    2720\n",
      "Name: count, dtype: int64\n"
     ]
    }
   ],
   "source": [
    "y_pred=final.predict(X_test)\n",
    "y_pred\n",
    "\n",
    "# Validate predictions\n",
    "assert len(y_pred) == len(X_test), \"Prediction length mismatch\"\n",
    "assert set(y_pred).issubset({0, 1}), \"Invalid prediction values\"\n",
    "\n",
    "# Save predictions\n",
    "import pandas as pd\n",
    "predictions_df = pd.DataFrame({\n",
    "    'index': range(len(y_pred)),\n",
    "    'prediction': y_pred,\n",
    "    'health_status': ['Unhealthy' if p == 0 else 'Healthy' for p in y_pred]\n",
    "})\n",
    "predictions_df.to_csv('test_predictions.csv', index=False)\n",
    "print(f\"Predictions saved to test_predictions.csv\")\n",
    "print(f\"Prediction distribution: {pd.Series(y_pred).value_counts()}\")"
   ]
  },
  {
   "cell_type": "code",
   "execution_count": 37,
   "id": "b1856a09-bde3-4747-ac35-a884bef5c324",
   "metadata": {},
   "outputs": [
    {
     "name": "stdout",
     "output_type": "stream",
     "text": [
      "Extra CV scores: [0.81830495 0.81420554 0.82233404 0.82581769 0.81710857]\n",
      "Extra CV mean accuracy: 0.8195541588947721\n"
     ]
    }
   ],
   "source": [
    "from sklearn.model_selection import cross_val_score\n",
    "best_model = final.best_estimator_\n",
    "cv_scores = cross_val_score(best_model, X_train, Y_train, cv=5, scoring='accuracy')\n",
    "print(\"Extra CV scores:\", cv_scores)\n",
    "print(\"Extra CV mean accuracy:\", cv_scores.mean())"
   ]
  },
  {
   "cell_type": "code",
   "execution_count": 38,
   "id": "fd6ddf37-2e8e-4f92-aa75-a5fbb863fea4",
   "metadata": {},
   "outputs": [
    {
     "name": "stdout",
     "output_type": "stream",
     "text": [
      "\n",
      "=== Classification Report ===\n",
      "              precision    recall  f1-score   support\n",
      "\n",
      "   Unhealthy       0.74      0.79      0.76      1918\n",
      "     Healthy       0.87      0.83      0.85      3250\n",
      "\n",
      "    accuracy                           0.82      5168\n",
      "   macro avg       0.80      0.81      0.81      5168\n",
      "weighted avg       0.82      0.82      0.82      5168\n",
      "\n",
      "\n",
      "=== Confusion Matrix ===\n",
      "[[1516  402]\n",
      " [ 546 2704]]\n"
     ]
    },
    {
     "data": {
      "image/png": "[encoded data removed]",
      "text/plain": [
       "<Figure size 800x600 with 2 Axes>"
      ]
     },
     "metadata": {},
     "output_type": "display_data"
    }
   ],
   "source": [
    "from sklearn.metrics import classification_report, confusion_matrix\n",
    "from sklearn.model_selection import train_test_split\n",
    "\n",
    "# Create a validation split for detailed evaluation\n",
    "X_train_split, X_val_split, y_train_split, y_val_split = train_test_split(\n",
    "    X_train, Y_train, test_size=0.2, random_state=42, stratify=Y_train\n",
    ")\n",
    "\n",
    "# Train on split and evaluate\n",
    "final.fit(X_train_split, y_train_split)\n",
    "y_val_pred = final.predict(X_val_split)\n",
    "\n",
    "# Detailed metrics\n",
    "print(\"\\n=== Classification Report ===\")\n",
    "print(classification_report(y_val_split, y_val_pred, \n",
    "                          target_names=['Unhealthy', 'Healthy']))\n",
    "\n",
    "print(\"\\n=== Confusion Matrix ===\")\n",
    "cm = confusion_matrix(y_val_split, y_val_pred)\n",
    "print(cm)\n",
    "\n",
    "# Visualize confusion matrix\n",
    "import matplotlib.pyplot as plt\n",
    "import seaborn as sns\n",
    "plt.figure(figsize=(8, 6))\n",
    "sns.heatmap(cm, annot=True, fmt='d', cmap='Blues',\n",
    "            xticklabels=['Unhealthy', 'Healthy'],\n",
    "            yticklabels=['Unhealthy', 'Healthy'])\n",
    "plt.title('Confusion Matrix')\n",
    "plt.ylabel('Actual')\n",
    "plt.xlabel('Predicted')\n",
    "plt.show()"
   ]
  },
  {
   "cell_type": "code",
   "execution_count": 39,
   "id": "deebc9da-7b08-414f-ba09-c15499699d1f",
   "metadata": {},
   "outputs": [
    {
     "data": {
      "text/plain": [
       "['health_model.pkl']"
      ]
     },
     "execution_count": 39,
     "metadata": {},
     "output_type": "execute_result"
    }
   ],
   "source": [
    "import joblib\n",
    "joblib.dump(best_model, \"health_model.pkl\")"
   ]
  }
 ],
 "metadata": {
  "kernelspec": {
   "display_name": "Python 3 (ipykernel)",
   "language": "python",
   "name": "python3"
  },
  "language_info": {
   "codemirror_mode": {
    "name": "ipython",
    "version": 3
   },
   "file_extension": ".py",
   "mimetype": "text/x-python",
   "name": "python",
   "nbconvert_exporter": "python",
   "pygments_lexer": "ipython3",
   "version": "3.12.7"
  }
 },
 "nbformat": 4,
 "nbformat_minor": 5
}
